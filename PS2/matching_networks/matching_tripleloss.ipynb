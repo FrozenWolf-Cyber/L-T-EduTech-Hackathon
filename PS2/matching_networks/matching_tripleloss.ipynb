{
 "cells": [
  {
   "cell_type": "markdown",
   "id": "d1149c1f",
   "metadata": {
    "papermill": {
     "duration": 0.005547,
     "end_time": "2023-01-12T10:25:15.027336",
     "exception": false,
     "start_time": "2023-01-12T10:25:15.021789",
     "status": "completed"
    },
    "tags": []
   },
   "source": [
    "## Contents\n",
    "-  [1.Importing Libraries](#1)\n",
    "-  [2.Dataset Managament](#2)\n",
    "    -  [2.1.Downloading and Extracting Dataset](#2.1)\n",
    "    -  [2.2.Visualizing Dataset](#2.2)\n",
    "    -  [2.3.Splitting Dataset](#2.3)\n",
    "    -  [2.4.Pytorch DataLoaders](#2.4)\n",
    "-  [3.Initializing pre-trained model](#3)\n",
    "-  [4.Training](#4)\n",
    "-  [5.Plotting Graphs](#5)\n",
    "    -  [5.1.Plotting Loss vs MiniBatch](#5.1)\n",
    "    -  [5.2.Plotting Accuracy vs MiniBatch](#5.2)\n",
    "    -  [5.3.Plotting Loss vs Epoch](#5.3)\n",
    "    -  [5.4.Plotting Accuracy vs Epoch](#5.4)\n",
    "-  [6.Loading and Testing](#6)"
   ]
  },
  {
   "cell_type": "markdown",
   "id": "ebbf9fc4",
   "metadata": {
    "papermill": {
     "duration": 0.004082,
     "end_time": "2023-01-12T10:25:15.035889",
     "exception": false,
     "start_time": "2023-01-12T10:25:15.031807",
     "status": "completed"
    },
    "tags": []
   },
   "source": [
    "### 1.Importing Libraries <a class=\"anchor\" id=\"1\"></a>"
   ]
  },
  {
   "cell_type": "code",
   "execution_count": 1,
   "id": "6d28fa48",
   "metadata": {
    "execution": {
     "iopub.execute_input": "2023-01-12T10:25:15.046522Z",
     "iopub.status.busy": "2023-01-12T10:25:15.045571Z",
     "iopub.status.idle": "2023-01-12T10:25:30.824329Z",
     "shell.execute_reply": "2023-01-12T10:25:30.823036Z"
    },
    "papermill": {
     "duration": 15.786782,
     "end_time": "2023-01-12T10:25:30.827028",
     "exception": false,
     "start_time": "2023-01-12T10:25:15.040246",
     "status": "completed"
    },
    "tags": []
   },
   "outputs": [
    {
     "name": "stderr",
     "output_type": "stream",
     "text": [
      "/home/frozenwolf/miniconda3/lib/python3.7/site-packages/torchvision/io/image.py:13: UserWarning: Failed to load image Python extension: /home/frozenwolf/miniconda3/lib/python3.7/site-packages/torchvision/image.so: undefined symbol: _ZN5torch3jit17parseSchemaOrNameERKNSt7__cxx1112basic_stringIcSt11char_traitsIcESaIcEEE\n",
      "  warn(f\"Failed to load image Python extension: {e}\")\n"
     ]
    }
   ],
   "source": [
    "# !pip install timm\n",
    "import timm"
   ]
  },
  {
   "cell_type": "code",
   "execution_count": 2,
   "id": "93109c56",
   "metadata": {
    "execution": {
     "iopub.execute_input": "2023-01-12T10:25:30.840027Z",
     "iopub.status.busy": "2023-01-12T10:25:30.839720Z",
     "iopub.status.idle": "2023-01-12T10:25:31.768733Z",
     "shell.execute_reply": "2023-01-12T10:25:31.767808Z"
    },
    "papermill": {
     "duration": 0.938243,
     "end_time": "2023-01-12T10:25:31.771306",
     "exception": false,
     "start_time": "2023-01-12T10:25:30.833063",
     "status": "completed"
    },
    "tags": []
   },
   "outputs": [],
   "source": [
    "import torch\n",
    "import torch.nn as nn\n",
    "from torchvision import models\n",
    "import torch.nn.functional as F\n",
    "import torchvision.transforms as T\n",
    "from torch.utils.data import Dataset as Dataset\n",
    "from torch.utils.data import DataLoader as DataLoader\n",
    "from sklearn import cluster\n",
    "from zipfile import ZipFile\n",
    "import matplotlib.pyplot as plt\n",
    "import numpy as np\n",
    "import seaborn as sns\n",
    "from PIL import Image\n",
    "import os\n",
    "import random\n",
    "import pickle\n",
    "\n",
    "torch.cuda.empty_cache()\n",
    "random.seed(0)\n",
    "np.random.seed(0)\n",
    "torch.manual_seed(0)\n",
    "\n",
    "sns.set_style(\"darkgrid\")\n",
    "\n"
   ]
  },
  {
   "cell_type": "markdown",
   "id": "7229dfc3",
   "metadata": {
    "papermill": {
     "duration": 0.005398,
     "end_time": "2023-01-12T10:25:31.782515",
     "exception": false,
     "start_time": "2023-01-12T10:25:31.777117",
     "status": "completed"
    },
    "tags": []
   },
   "source": [
    "### 2.Dataset Managament <a class=\"anchor\" id=\"2\"></a>"
   ]
  },
  {
   "cell_type": "markdown",
   "id": "c075d896",
   "metadata": {
    "papermill": {
     "duration": 0.005249,
     "end_time": "2023-01-12T10:25:31.793211",
     "exception": false,
     "start_time": "2023-01-12T10:25:31.787962",
     "status": "completed"
    },
    "tags": []
   },
   "source": [
    "#### 1.Downloading and Extracting Dataset <a class=\"anchor\" id=\"2.1\"></a>"
   ]
  },
  {
   "cell_type": "code",
   "execution_count": 3,
   "id": "828bc94f",
   "metadata": {
    "execution": {
     "iopub.execute_input": "2023-01-12T10:25:31.805878Z",
     "iopub.status.busy": "2023-01-12T10:25:31.805080Z",
     "iopub.status.idle": "2023-01-12T10:25:31.943083Z",
     "shell.execute_reply": "2023-01-12T10:25:31.942230Z"
    },
    "papermill": {
     "duration": 0.146402,
     "end_time": "2023-01-12T10:25:31.945066",
     "exception": false,
     "start_time": "2023-01-12T10:25:31.798664",
     "status": "completed"
    },
    "tags": []
   },
   "outputs": [],
   "source": [
    "path = \"electricity-dataset/\"\n",
    "labels = {os.listdir(path)[i]:i for i in range(3)}\n",
    "\n",
    "\n",
    "train_img = {}\n",
    "train_label = []\n",
    "\n",
    "test_img = {}\n",
    "test_label = []\n",
    "\n",
    "val_img = {}\n",
    "val_label = []\n",
    "\n",
    "database_img = {}\n",
    "\n",
    "for i in os.listdir(path):\n",
    "    for j in os.listdir(path+i):\n",
    "        if \"test\" in j:\n",
    "            test_img[labels[i]] =[path+i+'/'+j+'/'+k for k in os.listdir(path+i+'/'+j)]\n",
    "\n",
    "        else:\n",
    "            train_img[labels[i]] =[path+i+'/'+j+'/'+k for k in os.listdir(path+i+'/'+j)]\n",
    "\n",
    "            val_img[labels[i]] =train_img[labels[i]][-4:]\n",
    "            \n",
    "            train_img[labels[i]]  = train_img[labels[i]][:-4]\n",
    "\n",
    "            database_img[labels[i]] = train_img[labels[i]][-10:]\n",
    "            \n",
    "#             train_img = train_img[:-8]"
   ]
  },
  {
   "cell_type": "markdown",
   "id": "a56813f7",
   "metadata": {
    "papermill": {
     "duration": 0.006731,
     "end_time": "2023-01-12T10:25:31.957287",
     "exception": false,
     "start_time": "2023-01-12T10:25:31.950556",
     "status": "completed"
    },
    "tags": []
   },
   "source": [
    "#### 3.Splitting Dataset <a class=\"anchor\" id=\"2.3\"></a>"
   ]
  },
  {
   "cell_type": "markdown",
   "id": "1238ac34",
   "metadata": {
    "papermill": {
     "duration": 0.00531,
     "end_time": "2023-01-12T10:25:31.968282",
     "exception": false,
     "start_time": "2023-01-12T10:25:31.962972",
     "status": "completed"
    },
    "tags": []
   },
   "source": [
    "#### 4.Pytorch DataLoaders <a class=\"anchor\" id=\"2.4\"></a>"
   ]
  },
  {
   "cell_type": "code",
   "execution_count": 4,
   "id": "a6802d6e",
   "metadata": {
    "execution": {
     "iopub.execute_input": "2023-01-12T10:25:31.980479Z",
     "iopub.status.busy": "2023-01-12T10:25:31.980160Z",
     "iopub.status.idle": "2023-01-12T10:25:32.125612Z",
     "shell.execute_reply": "2023-01-12T10:25:32.124685Z"
    },
    "papermill": {
     "duration": 0.154335,
     "end_time": "2023-01-12T10:25:32.128091",
     "exception": false,
     "start_time": "2023-01-12T10:25:31.973756",
     "status": "completed"
    },
    "tags": []
   },
   "outputs": [],
   "source": [
    "import random\n",
    "import itertools\n",
    "from PIL import Image\n",
    "\n",
    "class Dataset(Dataset):\n",
    "    def __init__(self,x,transform = 'T.Resize((224,224))'):\n",
    "        self.transform = transform\n",
    "        self.x = x\n",
    "        self.len = 3*(len(self.x[0]))**2\n",
    "   \n",
    "    def __len__(self):\n",
    "        return self.len\n",
    "    \n",
    "    def __getitem__(self,i):\n",
    "        x = [0,1,2]\n",
    "        c1 = random.choice(x)\n",
    "#         print(c1)\n",
    "        x.remove(c1)\n",
    "        c2 = random.choice(x)\n",
    "        \n",
    "        anchor_i = random.randrange(len(self.x[c1]))\n",
    "        i1 = random.randrange(len(self.x[c1]))\n",
    "        i2 = random.randrange(len(self.x[c2]))\n",
    "        \n",
    "        anchor = Image.open(self.x[c1][anchor_i]).convert('RGB')\n",
    "        img1 = Image.open(self.x[c1][i1]).convert('RGB')\n",
    "        img2 = Image.open(self.x[c2][i2]).convert('RGB')\n",
    "            \n",
    "        return torch.FloatTensor(np.asarray(self.transform(anchor))), torch.FloatTensor(np.asarray(self.transform(img1))), torch.FloatTensor(np.asarray(self.transform(img2))),torch.FloatTensor([1]), torch.FloatTensor([0])\n",
    "\n",
    "\n",
    "batch_size = 32\n",
    "\n",
    "transforms_train = T.Compose([\n",
    "        T.Resize((224,224)),\n",
    "        T.RandomRotation(degrees=(-10, 10)),\n",
    "        T.RandomHorizontalFlip(),\n",
    "#         T.RandomGrayscale(0.5),\n",
    "#         T.RandomVerticalFlip(),\n",
    "        T.ToTensor(),\n",
    "        \n",
    "    ])\n",
    "\n",
    "transforms_test = T.Compose([\n",
    "        T.Resize((224,224)),\n",
    "        T.ToTensor(),\n",
    "    ])\n",
    "\n",
    "train_dataset = Dataset(train_img,transform =transforms_train)\n",
    "validation_dataset = Dataset(val_img,transform =transforms_test)\n",
    "test_dataset = Dataset(test_img,transform =transforms_test)\n",
    "\n",
    "train_dataloader = DataLoader(train_dataset , batch_size = batch_size , shuffle = True )\n",
    "validation_dataloader = DataLoader(validation_dataset , batch_size = batch_size , shuffle = True )\n",
    "test_dataloader = DataLoader(test_dataset , batch_size = batch_size , shuffle = True )"
   ]
  },
  {
   "cell_type": "code",
   "execution_count": 5,
   "id": "19965ed3",
   "metadata": {
    "execution": {
     "iopub.execute_input": "2023-01-12T10:25:32.140415Z",
     "iopub.status.busy": "2023-01-12T10:25:32.140103Z",
     "iopub.status.idle": "2023-01-12T10:25:33.616834Z",
     "shell.execute_reply": "2023-01-12T10:25:33.615179Z"
    },
    "papermill": {
     "duration": 1.486145,
     "end_time": "2023-01-12T10:25:33.619844",
     "exception": false,
     "start_time": "2023-01-12T10:25:32.133699",
     "status": "completed"
    },
    "tags": []
   },
   "outputs": [
    {
     "data": {
      "text/plain": [
       "torch.Size([32, 3, 224, 224])"
      ]
     },
     "execution_count": 5,
     "metadata": {},
     "output_type": "execute_result"
    }
   ],
   "source": [
    "next(iter(validation_dataloader))[0].shape"
   ]
  },
  {
   "cell_type": "markdown",
   "id": "c13cafe7",
   "metadata": {
    "papermill": {
     "duration": 0.005605,
     "end_time": "2023-01-12T10:25:33.632400",
     "exception": false,
     "start_time": "2023-01-12T10:25:33.626795",
     "status": "completed"
    },
    "tags": []
   },
   "source": [
    "### 3.Initializing pre-trained model <a class=\"anchor\" id=\"3\"></a>"
   ]
  },
  {
   "cell_type": "code",
   "execution_count": 6,
   "id": "1b6e6430",
   "metadata": {
    "execution": {
     "iopub.execute_input": "2023-01-12T10:25:33.645804Z",
     "iopub.status.busy": "2023-01-12T10:25:33.645058Z",
     "iopub.status.idle": "2023-01-12T10:25:42.724481Z",
     "shell.execute_reply": "2023-01-12T10:25:42.723231Z"
    },
    "papermill": {
     "duration": 9.088592,
     "end_time": "2023-01-12T10:25:42.726757",
     "exception": false,
     "start_time": "2023-01-12T10:25:33.638165",
     "status": "completed"
    },
    "tags": []
   },
   "outputs": [
    {
     "data": {
      "text/plain": [
       "(tensor([[128.9888],\n",
       "         [ 95.2902]], device='cuda:0', grad_fn=<ViewBackward0>),\n",
       " tensor([[127.3426],\n",
       "         [170.5652]], device='cuda:0', grad_fn=<ViewBackward0>))"
      ]
     },
     "execution_count": 6,
     "metadata": {},
     "output_type": "execute_result"
    }
   ],
   "source": [
    "import torch.nn.functional as F\n",
    "\n",
    "class ViTBase16(nn.Module):\n",
    "    def __init__(self, n_classes, pretrained=False):\n",
    "\n",
    "        super(ViTBase16, self).__init__()\n",
    "\n",
    "        self.model = timm.create_model(\"vit_tiny_patch16_224\", pretrained=False)\n",
    "        self.model.head = nn.Linear(self.model.head.in_features, n_classes)\n",
    "\n",
    "    def forward(self, x):\n",
    "        x = self.model(x)\n",
    "        return x\n",
    "\n",
    "\n",
    "class MatchingModel(nn.Module):\n",
    "    def __init__(self, device):\n",
    "\n",
    "        super(MatchingModel, self).__init__()\n",
    "\n",
    "        self.model_vit = ViTBase16(3, pretrained=True)\n",
    "\n",
    "        self.model_vit.load_state_dict(torch.load(\"vit_tiny_patch16_224\", map_location=torch.device(device)))\n",
    "\n",
    "        self.model_vit.model.head = nn.Identity()\n",
    "        \n",
    "        # self.T = T.Compose([T.Normalize([0.485, 0.456, 0.406], [0.229, 0.224, 0.225])])\n",
    "        \n",
    "\n",
    "        for param in self.model_vit.parameters():\n",
    "            param.requires_grad = True\n",
    "            \n",
    "        \n",
    "#         self.l1 = nn.Linear(4,16)\n",
    "#         self.l1 = nn.Linear(2,16)\n",
    "        self.out = nn.Linear(1,1)\n",
    "        \n",
    "    \n",
    "    def euclidean_dist(self, x1, x2):\n",
    "        return (x1-x2).pow(2).sum(1)\n",
    "            \n",
    "    def forward(self, x1, x2, x3=None): #anchor, T, F\n",
    "        x1_ = self.model_vit(x1) \n",
    "        x2_ = self.model_vit(x2)\n",
    "                \n",
    "        y2 = self.euclidean_dist(x1_, x2_).view(-1,1) #anchor - T      \n",
    "\n",
    "        \n",
    "#         if x3 is not None:\n",
    "        x3_ = self.model_vit(x3)\n",
    "        y3 = self.euclidean_dist(x1_, x3_).view(-1,1) #anchor -F\n",
    "       \n",
    "        return y2, y3\n",
    "#             return torch.sigmoid(self.out(torch.cat((y2, y4), dim=1))), torch.sigmoid(self.out(torch.cat((y2, y4), dim=1))), (y2, y3, y4, y5)\n",
    "        \n",
    "#         else:\n",
    "#             return torch.sigmoid(self.out(torch.cat((y2, y4), dim=1))), (y2, y4)\n",
    "\n",
    "device = 'cuda'\n",
    "model = MatchingModel(device='cuda')\n",
    "\n",
    "model = model.to(device)\n",
    "\n",
    "model(torch.randn(2, 3, 224, 224).to('cuda'), torch.randn(2, 3, 224, 224).to('cuda'), torch.randn(2, 3, 224, 224).to('cuda'))\n"
   ]
  },
  {
   "cell_type": "markdown",
   "id": "e39aad33",
   "metadata": {
    "papermill": {
     "duration": 0.005676,
     "end_time": "2023-01-12T10:25:42.738736",
     "exception": false,
     "start_time": "2023-01-12T10:25:42.733060",
     "status": "completed"
    },
    "tags": []
   },
   "source": [
    "### 4.Training <a class=\"anchor\" id=\"4\"></a>"
   ]
  },
  {
   "cell_type": "code",
   "execution_count": 7,
   "id": "1603e4a5",
   "metadata": {
    "execution": {
     "iopub.execute_input": "2023-01-12T10:25:42.751828Z",
     "iopub.status.busy": "2023-01-12T10:25:42.750984Z",
     "iopub.status.idle": "2023-01-12T10:25:42.760121Z",
     "shell.execute_reply": "2023-01-12T10:25:42.759304Z"
    },
    "papermill": {
     "duration": 0.017783,
     "end_time": "2023-01-12T10:25:42.762131",
     "exception": false,
     "start_time": "2023-01-12T10:25:42.744348",
     "status": "completed"
    },
    "tags": []
   },
   "outputs": [],
   "source": [
    "lr = 0.001\n",
    "epoch = 30\n",
    "train_dataset_size = train_dataset.__len__()\n",
    "validation_dataset_size = validation_dataset.__len__()\n",
    "train_n_minibatches = train_dataloader.__len__()\n",
    "validation_n_minibatches = validation_dataloader.__len__()\n",
    "\n",
    "\n",
    "loss_history = [[],[]] #[[train], [validation]]\n",
    "tri_loss_history = [[],[]]\n",
    "accuracy_history = [[],[]] #[[train], [validation]]\n",
    "\n",
    "criterion = nn.BCELoss() \n",
    "optimizer = torch.optim.SGD(model.parameters(),lr = lr)\n",
    "\n",
    "class TripletLoss(nn.Module):\n",
    "    \"\"\"\n",
    "    Triplet loss\n",
    "    Takes embeddings of an anchor sample, a positive sample and a negative sample\n",
    "    \"\"\"\n",
    "\n",
    "    def __init__(self):\n",
    "        super(TripletLoss, self).__init__()\n",
    "\n",
    "    def forward(self, distance_positive, distance_negative, size_average=True):\n",
    "        losses = F.relu(distance_positive - distance_negative)\n",
    "        return losses.mean() if size_average else losses.sum()\n",
    "    \n",
    "tripletloss = TripletLoss()"
   ]
  },
  {
   "cell_type": "code",
   "execution_count": 15,
   "id": "29e2d846",
   "metadata": {},
   "outputs": [
    {
     "name": "stdout",
     "output_type": "stream",
     "text": [
      "---------------------------------------EPOCH 1-------------------------------------------\n",
      "TRILOSS for EPOCH 1 BATCH 0/338 TRAIN LOSS : 163.29306030273438\n",
      "VALIDATION TRILOSS : 65.79791641235352\n",
      "TRILOSS for EPOCH 1 BATCH 169/338 TRAIN LOSS : 11.189620971679688\n",
      "VALIDATION TRILOSS : 46.454341888427734\n",
      "--------------------------------------------------------------------------------------------\n",
      "TRAIN TRILoss for EPOCH 1  TRAIN LOSS : 99.97148987809582 VALIDATION TRILOSS: 46.454341888427734\n",
      "---------------------------------------------------------------------------------------------\n",
      "---------------------------------------EPOCH 2-------------------------------------------\n",
      "TRILOSS for EPOCH 2 BATCH 0/338 TRAIN LOSS : 59.18225860595703\n",
      "VALIDATION TRILOSS : 44.26023864746094\n",
      "TRILOSS for EPOCH 2 BATCH 169/338 TRAIN LOSS : 59.78337860107422\n",
      "VALIDATION TRILOSS : 37.24494934082031\n",
      "--------------------------------------------------------------------------------------------\n",
      "TRAIN TRILoss for EPOCH 2  TRAIN LOSS : 50.14669391248353 VALIDATION TRILOSS: 37.24494934082031\n",
      "---------------------------------------------------------------------------------------------\n",
      "---------------------------------------EPOCH 3-------------------------------------------\n",
      "TRILOSS for EPOCH 3 BATCH 0/338 TRAIN LOSS : 2.1749343872070312\n",
      "VALIDATION TRILOSS : 11.182083129882812\n",
      "TRILOSS for EPOCH 3 BATCH 169/338 TRAIN LOSS : 11.549484252929688\n",
      "VALIDATION TRILOSS : 48.734249114990234\n",
      "--------------------------------------------------------------------------------------------\n",
      "TRAIN TRILoss for EPOCH 3  TRAIN LOSS : 23.879489514954695 VALIDATION TRILOSS: 48.734249114990234\n",
      "---------------------------------------------------------------------------------------------\n",
      "---------------------------------------EPOCH 4-------------------------------------------\n",
      "TRILOSS for EPOCH 4 BATCH 0/338 TRAIN LOSS : 19.326568603515625\n",
      "VALIDATION TRILOSS : 66.01051330566406\n",
      "TRILOSS for EPOCH 4 BATCH 169/338 TRAIN LOSS : 38.566070556640625\n",
      "VALIDATION TRILOSS : 21.252891540527344\n",
      "--------------------------------------------------------------------------------------------\n",
      "TRAIN TRILoss for EPOCH 4  TRAIN LOSS : 11.76238778921274 VALIDATION TRILOSS: 21.252891540527344\n",
      "---------------------------------------------------------------------------------------------\n",
      "---------------------------------------EPOCH 5-------------------------------------------\n",
      "TRILOSS for EPOCH 5 BATCH 0/338 TRAIN LOSS : 0.0\n",
      "VALIDATION TRILOSS : 6.963871002197266\n",
      "TRILOSS for EPOCH 5 BATCH 169/338 TRAIN LOSS : 12.500045776367188\n",
      "VALIDATION TRILOSS : 45.638519287109375\n",
      "--------------------------------------------------------------------------------------------\n",
      "TRAIN TRILoss for EPOCH 5  TRAIN LOSS : 5.229361539761696 VALIDATION TRILOSS: 45.638519287109375\n",
      "---------------------------------------------------------------------------------------------\n",
      "---------------------------------------EPOCH 6-------------------------------------------\n",
      "TRILOSS for EPOCH 6 BATCH 0/338 TRAIN LOSS : 0.0\n",
      "VALIDATION TRILOSS : 82.07363891601562\n",
      "TRILOSS for EPOCH 6 BATCH 169/338 TRAIN LOSS : 0.0\n",
      "VALIDATION TRILOSS : 46.54202651977539\n",
      "--------------------------------------------------------------------------------------------\n",
      "TRAIN TRILoss for EPOCH 6  TRAIN LOSS : 4.30209378801154 VALIDATION TRILOSS: 46.54202651977539\n",
      "---------------------------------------------------------------------------------------------\n",
      "---------------------------------------EPOCH 7-------------------------------------------\n",
      "TRILOSS for EPOCH 7 BATCH 0/338 TRAIN LOSS : 5.258415222167969\n",
      "VALIDATION TRILOSS : 97.44574356079102\n",
      "TRILOSS for EPOCH 7 BATCH 169/338 TRAIN LOSS : 0.0\n",
      "VALIDATION TRILOSS : 46.81083679199219\n",
      "--------------------------------------------------------------------------------------------\n",
      "TRAIN TRILoss for EPOCH 7  TRAIN LOSS : 3.351245338394797 VALIDATION TRILOSS: 46.81083679199219\n",
      "---------------------------------------------------------------------------------------------\n",
      "---------------------------------------EPOCH 8-------------------------------------------\n",
      "TRILOSS for EPOCH 8 BATCH 0/338 TRAIN LOSS : 0.0\n",
      "VALIDATION TRILOSS : 27.31325912475586\n",
      "TRILOSS for EPOCH 8 BATCH 169/338 TRAIN LOSS : 0.0\n",
      "VALIDATION TRILOSS : 74.75140380859375\n",
      "--------------------------------------------------------------------------------------------\n",
      "TRAIN TRILoss for EPOCH 8  TRAIN LOSS : 3.0095995163776466 VALIDATION TRILOSS: 74.75140380859375\n",
      "---------------------------------------------------------------------------------------------\n",
      "---------------------------------------EPOCH 9-------------------------------------------\n",
      "TRILOSS for EPOCH 9 BATCH 0/338 TRAIN LOSS : 0.0\n",
      "VALIDATION TRILOSS : 12.840316772460938\n",
      "TRILOSS for EPOCH 9 BATCH 169/338 TRAIN LOSS : 0.0\n",
      "VALIDATION TRILOSS : 88.33972549438477\n",
      "--------------------------------------------------------------------------------------------\n",
      "TRAIN TRILoss for EPOCH 9  TRAIN LOSS : 2.4328110147510054 VALIDATION TRILOSS: 88.33972549438477\n",
      "---------------------------------------------------------------------------------------------\n",
      "---------------------------------------EPOCH 10-------------------------------------------\n",
      "TRILOSS for EPOCH 10 BATCH 0/338 TRAIN LOSS : 8.9290771484375\n",
      "VALIDATION TRILOSS : 81.89385223388672\n",
      "TRILOSS for EPOCH 10 BATCH 169/338 TRAIN LOSS : 0.0\n",
      "VALIDATION TRILOSS : 36.56035614013672\n",
      "--------------------------------------------------------------------------------------------\n",
      "TRAIN TRILoss for EPOCH 10  TRAIN LOSS : 2.4422548959946493 VALIDATION TRILOSS: 36.56035614013672\n",
      "---------------------------------------------------------------------------------------------\n",
      "---------------------------------------EPOCH 11-------------------------------------------\n",
      "TRILOSS for EPOCH 11 BATCH 0/338 TRAIN LOSS : 0.0\n",
      "VALIDATION TRILOSS : 62.192535400390625\n",
      "TRILOSS for EPOCH 11 BATCH 169/338 TRAIN LOSS : 0.0\n",
      "VALIDATION TRILOSS : 32.772647857666016\n",
      "--------------------------------------------------------------------------------------------\n",
      "TRAIN TRILoss for EPOCH 11  TRAIN LOSS : 1.796108990731324 VALIDATION TRILOSS: 32.772647857666016\n",
      "---------------------------------------------------------------------------------------------\n",
      "---------------------------------------EPOCH 12-------------------------------------------\n",
      "TRILOSS for EPOCH 12 BATCH 0/338 TRAIN LOSS : 0.0\n",
      "VALIDATION TRILOSS : 33.73082733154297\n",
      "TRILOSS for EPOCH 12 BATCH 169/338 TRAIN LOSS : 0.0\n",
      "VALIDATION TRILOSS : 52.54677963256836\n",
      "--------------------------------------------------------------------------------------------\n",
      "TRAIN TRILoss for EPOCH 12  TRAIN LOSS : 2.2049187315991645 VALIDATION TRILOSS: 52.54677963256836\n",
      "---------------------------------------------------------------------------------------------\n",
      "---------------------------------------EPOCH 13-------------------------------------------\n",
      "TRILOSS for EPOCH 13 BATCH 0/338 TRAIN LOSS : 40.44793701171875\n",
      "VALIDATION TRILOSS : 178.54739379882812\n",
      "TRILOSS for EPOCH 13 BATCH 169/338 TRAIN LOSS : 0.0\n",
      "VALIDATION TRILOSS : 97.97826385498047\n",
      "--------------------------------------------------------------------------------------------\n",
      "TRAIN TRILoss for EPOCH 13  TRAIN LOSS : 2.000262728809605 VALIDATION TRILOSS: 97.97826385498047\n",
      "---------------------------------------------------------------------------------------------\n",
      "---------------------------------------EPOCH 14-------------------------------------------\n",
      "TRILOSS for EPOCH 14 BATCH 0/338 TRAIN LOSS : 0.0\n",
      "VALIDATION TRILOSS : 111.18877792358398\n",
      "TRILOSS for EPOCH 14 BATCH 169/338 TRAIN LOSS : 0.0\n",
      "VALIDATION TRILOSS : 14.903121948242188\n",
      "--------------------------------------------------------------------------------------------\n",
      "TRAIN TRILoss for EPOCH 14  TRAIN LOSS : 2.092547061175284 VALIDATION TRILOSS: 14.903121948242188\n",
      "---------------------------------------------------------------------------------------------\n",
      "---------------------------------------EPOCH 15-------------------------------------------\n",
      "TRILOSS for EPOCH 15 BATCH 0/338 TRAIN LOSS : 11.115798950195312\n",
      "VALIDATION TRILOSS : 126.28079986572266\n",
      "TRILOSS for EPOCH 15 BATCH 169/338 TRAIN LOSS : 0.0\n",
      "VALIDATION TRILOSS : 35.82577896118164\n",
      "--------------------------------------------------------------------------------------------\n",
      "TRAIN TRILoss for EPOCH 15  TRAIN LOSS : 2.275647259322849 VALIDATION TRILOSS: 35.82577896118164\n",
      "---------------------------------------------------------------------------------------------\n",
      "---------------------------------------EPOCH 16-------------------------------------------\n",
      "TRILOSS for EPOCH 16 BATCH 0/338 TRAIN LOSS : 0.0\n",
      "VALIDATION TRILOSS : 60.12788772583008\n",
      "TRILOSS for EPOCH 16 BATCH 169/338 TRAIN LOSS : 0.0\n",
      "VALIDATION TRILOSS : 92.68474197387695\n",
      "--------------------------------------------------------------------------------------------\n",
      "TRAIN TRILoss for EPOCH 16  TRAIN LOSS : 1.252299359564245 VALIDATION TRILOSS: 92.68474197387695\n",
      "---------------------------------------------------------------------------------------------\n",
      "---------------------------------------EPOCH 17-------------------------------------------\n",
      "TRILOSS for EPOCH 17 BATCH 0/338 TRAIN LOSS : 0.0\n",
      "VALIDATION TRILOSS : 64.24588394165039\n",
      "TRILOSS for EPOCH 17 BATCH 169/338 TRAIN LOSS : 0.0\n",
      "VALIDATION TRILOSS : 106.08057022094727\n",
      "--------------------------------------------------------------------------------------------\n",
      "TRAIN TRILoss for EPOCH 17  TRAIN LOSS : 1.797240150045361 VALIDATION TRILOSS: 106.08057022094727\n",
      "---------------------------------------------------------------------------------------------\n",
      "\n"
     ]
    }
   ],
   "source": [
    "best_val_loss = 100000\n",
    "import gc\n",
    "\n",
    "for e in range(epoch):\n",
    "    print(f'---------------------------------------EPOCH {e+1}-------------------------------------------')\n",
    "    for batch_idx , (a, x1, x2 ,y1, y2) in enumerate(train_dataloader):\n",
    "        print(f\"BATCH {batch_idx+1}/{train_n_minibatches}\", end=\"\\r\")\n",
    "        model.train() # Setting mode to train\n",
    "        optimizer.zero_grad()\n",
    "        torch.cuda.empty_cache()\n",
    "        \n",
    "        x1, x2 , y1, y2, a = x1.to(device), x2.to(device) , y1.to(device), y2.to(device), a.to(device)\n",
    "        \n",
    "\n",
    "        p1, n1 = model(a, x1, x2)\n",
    "        \n",
    "        # Calculating Loss\n",
    "        \n",
    "        triloss = tripletloss(p1, n1)            \n",
    "        triloss.backward()\n",
    "        \n",
    "        \n",
    "\n",
    "        nn.utils.clip_grad_norm_(model.parameters(), 3)\n",
    "        optimizer.step()\n",
    "        tri_loss_history[0].append(float(triloss.detach()))\n",
    "\n",
    "        del x1, x2 ,y1, y2, triloss, p1, n1\n",
    "        gc.collect()\n",
    "        \n",
    "        \n",
    "        if batch_idx % (train_n_minibatches//2) == 0:\n",
    "            # Printing Log\n",
    "            print(f'TRILOSS for EPOCH {e+1} BATCH {batch_idx}/{train_n_minibatches} TRAIN LOSS : {tri_loss_history[0][-1]}')\n",
    "            with torch.no_grad():\n",
    "                # Calculating loss and accuracy for validation\n",
    "                model.eval()\n",
    "                for _batch_idx_ , (a, x1, x2 ,y1, y2) in enumerate(validation_dataloader):\n",
    "                    torch.cuda.empty_cache()\n",
    "                    print(f\"BATCH {_batch_idx_+1}/{len(validation_dataloader)}\", end=\"\\r\")\n",
    "                    x1, x2 , y1, y2, a = x1.to(device), x2.to(device) , y1.to(device), y2.to(device), a.to(device)\n",
    "                    p1, n1 = model(a, x1, x2)\n",
    "                    triloss = tripletloss(p1, n1)    \n",
    "                    tri_loss_history[1].append(float(triloss.detach()))\n",
    "\n",
    "                    del x1, x2 ,y1, y2, triloss, p1, n1\n",
    "                    gc.collect()         \n",
    "\n",
    "                print(f'VALIDATION TRILOSS : {sum(tri_loss_history[1][-1:-validation_n_minibatches-1:-1])/validation_n_minibatches}',end = '\\n')\n",
    "\n",
    "\n",
    "    # Saving the model progress\n",
    "    torch.save(model.state_dict(),'matching')\n",
    "    n_validation_losses = len(validation_dataloader)\n",
    "    x = sum(tri_loss_history[1][-1:-1*n_validation_losses-1:-1])/n_validation_losses\n",
    "    if best_val_loss>x:\n",
    "        best_val_loss = x\n",
    "        torch.save(model.state_dict(),'best_matching')\n",
    "\n",
    "    #Log for e+1th epoch\n",
    "    print(f'--------------------------------------------------------------------------------------------')\n",
    "    print(f'TRAIN TRILoss for EPOCH {e+1}  TRAIN LOSS : {sum(tri_loss_history[0][-1:-train_n_minibatches-1:-1])/train_n_minibatches}',end = ' ')\n",
    "    n_validation_losses = validation_n_minibatches\n",
    "    print(f'VALIDATION TRILOSS: {sum(tri_loss_history[1][-1:-1*n_validation_losses-1:-1])/n_validation_losses}')\n",
    "    print('---------------------------------------------------------------------------------------------')"
   ]
  },
  {
   "cell_type": "markdown",
   "id": "f59fa9ec",
   "metadata": {
    "papermill": {
     "duration": 0.255973,
     "end_time": "2023-01-12T12:57:44.247244",
     "exception": false,
     "start_time": "2023-01-12T12:57:43.991271",
     "status": "completed"
    },
    "tags": []
   },
   "source": [
    "#### 3.Plotting Loss vs Epoch<a class=\"anchor\" id=\"5.3\"></a>"
   ]
  },
  {
   "cell_type": "code",
   "execution_count": 9,
   "id": "952948f5",
   "metadata": {
    "execution": {
     "iopub.execute_input": "2023-01-12T12:57:44.810104Z",
     "iopub.status.busy": "2023-01-12T12:57:44.809744Z",
     "iopub.status.idle": "2023-01-12T12:57:45.103600Z",
     "shell.execute_reply": "2023-01-12T12:57:45.102662Z"
    },
    "papermill": {
     "duration": 0.550749,
     "end_time": "2023-01-12T12:57:45.105689",
     "exception": false,
     "start_time": "2023-01-12T12:57:44.554940",
     "status": "completed"
    },
    "tags": []
   },
   "outputs": [
    {
     "data": {
      "image/png": "[encoded data removed]",
      "text/plain": [
       "<Figure size 432x288 with 1 Axes>"
      ]
     },
     "metadata": {},
     "output_type": "display_data"
    }
   ],
   "source": [
    "# Plotting Loss per epoch\n",
    "tri_loss_per_epoch = [[],[]]\n",
    "for i in range(epoch):\n",
    "    temp = 0\n",
    "    for j in tri_loss_history[0][i*train_n_minibatches:(i+1)*train_n_minibatches]:\n",
    "        temp = temp + j\n",
    "    tri_loss_per_epoch[0].append(temp/train_n_minibatches)\n",
    "    temp = 0\n",
    "    for j in tri_loss_history[1][i*n_validation_losses:(i+1)*n_validation_losses]:\n",
    "        temp = temp + j\n",
    "    tri_loss_per_epoch[1].append(temp/n_validation_losses)    \n",
    "\n",
    "sns.lineplot(x=range(len(tri_loss_per_epoch[0])),y=tri_loss_per_epoch[0])\n",
    "sns.lineplot(x=range(len(tri_loss_per_epoch[1])),y=tri_loss_per_epoch[1])\n",
    "plt.show()"
   ]
  },
  {
   "cell_type": "markdown",
   "id": "b6c4932e",
   "metadata": {
    "papermill": {
     "duration": 0.257662,
     "end_time": "2023-01-12T12:57:45.620539",
     "exception": false,
     "start_time": "2023-01-12T12:57:45.362877",
     "status": "completed"
    },
    "tags": []
   },
   "source": [
    "#### 4.Plotting Accuracy vs Epoch<a class=\"anchor\" id=\"5.4\"></a>"
   ]
  },
  {
   "cell_type": "markdown",
   "id": "c37cd481",
   "metadata": {
    "papermill": {
     "duration": 0.257243,
     "end_time": "2023-01-12T12:57:46.137378",
     "exception": false,
     "start_time": "2023-01-12T12:57:45.880135",
     "status": "completed"
    },
    "tags": []
   },
   "source": [
    "### 6.Loading and Testing<a class=\"anchor\" id=\"6\"></a>"
   ]
  },
  {
   "cell_type": "code",
   "execution_count": 12,
   "id": "db4177dd",
   "metadata": {
    "execution": {
     "iopub.execute_input": "2023-01-12T12:57:46.721934Z",
     "iopub.status.busy": "2023-01-12T12:57:46.721552Z",
     "iopub.status.idle": "2023-01-12T12:57:46.726331Z",
     "shell.execute_reply": "2023-01-12T12:57:46.725329Z"
    },
    "papermill": {
     "duration": 0.326728,
     "end_time": "2023-01-12T12:57:46.728467",
     "exception": false,
     "start_time": "2023-01-12T12:57:46.401739",
     "status": "completed"
    },
    "tags": []
   },
   "outputs": [],
   "source": [
    "test_triloss_history = [[],[]]"
   ]
  },
  {
   "cell_type": "code",
   "execution_count": 13,
   "id": "2ddd30f7",
   "metadata": {
    "execution": {
     "iopub.execute_input": "2023-01-12T12:57:47.232402Z",
     "iopub.status.busy": "2023-01-12T12:57:47.232028Z",
     "iopub.status.idle": "2023-01-12T13:05:44.899412Z",
     "shell.execute_reply": "2023-01-12T13:05:44.898106Z"
    },
    "papermill": {
     "duration": 477.923746,
     "end_time": "2023-01-12T13:05:44.900907",
     "exception": true,
     "start_time": "2023-01-12T12:57:46.977161",
     "status": "failed"
    },
    "tags": []
   },
   "outputs": [
    {
     "name": "stdout",
     "output_type": "stream",
     "text": [
      "LOSS : 80.57171495499149  \n"
     ]
    }
   ],
   "source": [
    "#Testing the model on test dataset\n",
    "\n",
    "model.eval()\n",
    "with torch.no_grad():\n",
    "    for _batch_idx_ , (a, x1, x2 ,y1, y2) in enumerate(test_dataloader):\n",
    "        torch.cuda.empty_cache()\n",
    "        print(f\"BATCH {_batch_idx_+1}/{len(test_dataloader)}\", end=\"\\r\")\n",
    "        x1, x2 , y1, y2, a = x1.to(device), x2.to(device) , y1.to(device), y2.to(device), a.to(device)\n",
    "        p1, n1 = model(a, x1, x2)\n",
    "        triloss = tripletloss(p1, n1)  \n",
    "        test_triloss_history[1].append(float(triloss.detach()))\n",
    "        \n",
    "        del x1, x2 , y1, y2, a, p1, n1\n",
    "        gc.collect()\n",
    "    \n",
    "    print(f'LOSS : {sum(test_triloss_history[1])/len(test_triloss_history[1])}  ')             "
   ]
  },
  {
   "cell_type": "code",
   "execution_count": 14,
   "id": "6e229675",
   "metadata": {},
   "outputs": [
    {
     "name": "stdout",
     "output_type": "stream",
     "text": [
      "LOSS : 81.1187735733486  \n"
     ]
    }
   ],
   "source": [
    "model.load_state_dict(torch.load(\"best_matching\"))\n",
    "\n",
    "#Testing the model on test dataset\n",
    "\n",
    "model.eval()\n",
    "with torch.no_grad():\n",
    "    for _batch_idx_ , (a, x1, x2 ,y1, y2) in enumerate(test_dataloader):\n",
    "        torch.cuda.empty_cache()\n",
    "        print(f\"BATCH {_batch_idx_+1}/{len(test_dataloader)}\", end=\"\\r\")\n",
    "        x1, x2 , y1, y2, a = x1.to(device), x2.to(device) , y1.to(device), y2.to(device), a.to(device)\n",
    "        p1, n1 = model(a, x1, x2)\n",
    "        triloss = tripletloss(p1, n1)  \n",
    "        test_triloss_history[1].append(float(triloss.detach()))\n",
    "        \n",
    "        del x1, x2 , y1, y2, a, p1, n1\n",
    "        gc.collect()\n",
    "    \n",
    "    print(f'LOSS : {sum(test_triloss_history[1])/len(test_triloss_history[1])}  ')               "
   ]
  },
  {
   "cell_type": "code",
   "execution_count": 16,
   "id": "905666b5",
   "metadata": {},
   "outputs": [
    {
     "name": "stdout",
     "output_type": "stream",
     "text": [
      "LOSS : 84.1679423070082  \n"
     ]
    }
   ],
   "source": [
    "model.load_state_dict(torch.load(\"best_matching_1\"))\n",
    "\n",
    "#Testing the model on test dataset\n",
    "\n",
    "model.eval()\n",
    "with torch.no_grad():\n",
    "    for _batch_idx_ , (a, x1, x2 ,y1, y2) in enumerate(test_dataloader):\n",
    "        torch.cuda.empty_cache()\n",
    "        print(f\"BATCH {_batch_idx_+1}/{len(test_dataloader)}\", end=\"\\r\")\n",
    "        x1, x2 , y1, y2, a = x1.to(device), x2.to(device) , y1.to(device), y2.to(device), a.to(device)\n",
    "        p1, n1 = model(a, x1, x2)\n",
    "        triloss = tripletloss(p1, n1)  \n",
    "        test_triloss_history[1].append(float(triloss.detach()))\n",
    "        \n",
    "        del x1, x2 , y1, y2, a, p1, n1\n",
    "        gc.collect()\n",
    "    \n",
    "    print(f'LOSS : {sum(test_triloss_history[1])/len(test_triloss_history[1])}  ')               "
   ]
  },
  {
   "cell_type": "code",
   "execution_count": 17,
   "id": "1dfc5d97",
   "metadata": {},
   "outputs": [
    {
     "name": "stdout",
     "output_type": "stream",
     "text": [
      "LOSS : 79.68982806777761  \n"
     ]
    }
   ],
   "source": [
    "model.load_state_dict(torch.load(\"matching_1\"))\n",
    "\n",
    "#Testing the model on test dataset\n",
    "\n",
    "model.eval()\n",
    "with torch.no_grad():\n",
    "    for _batch_idx_ , (a, x1, x2 ,y1, y2) in enumerate(test_dataloader):\n",
    "        torch.cuda.empty_cache()\n",
    "        print(f\"BATCH {_batch_idx_+1}/{len(test_dataloader)}\", end=\"\\r\")\n",
    "        x1, x2 , y1, y2, a = x1.to(device), x2.to(device) , y1.to(device), y2.to(device), a.to(device)\n",
    "        p1, n1 = model(a, x1, x2)\n",
    "        triloss = tripletloss(p1, n1)  \n",
    "        test_triloss_history[1].append(float(triloss.detach()))\n",
    "        \n",
    "        del x1, x2 , y1, y2, a, p1, n1\n",
    "        gc.collect()\n",
    "    \n",
    "    print(f'LOSS : {sum(test_triloss_history[1])/len(test_triloss_history[1])}  ')               "
   ]
  },
  {
   "cell_type": "code",
   "execution_count": 18,
   "id": "f1942fc3",
   "metadata": {},
   "outputs": [
    {
     "data": {
      "text/plain": [
       "14.903121948242188"
      ]
     },
     "execution_count": 18,
     "metadata": {},
     "output_type": "execute_result"
    }
   ],
   "source": [
    "best_val_loss"
   ]
  },
  {
   "cell_type": "code",
   "execution_count": null,
   "id": "8295ff23",
   "metadata": {
    "execution": {
     "iopub.status.busy": "2023-01-12T10:17:41.008987Z",
     "iopub.status.idle": "2023-01-12T10:17:41.009568Z",
     "shell.execute_reply": "2023-01-12T10:17:41.009296Z",
     "shell.execute_reply.started": "2023-01-12T10:17:41.009250Z"
    },
    "papermill": {
     "duration": null,
     "end_time": null,
     "exception": null,
     "start_time": null,
     "status": "pending"
    },
    "tags": []
   },
   "outputs": [],
   "source": [
    "# Loss for EPOCH 20  TRAIN LOSS : 0.1375014123817285 TRAIN ACCURACY : 97.39583333333333\n",
    "# VALIDATION LOSS for EPOCH 20 : 0.817010223865509 VALIDATION ACCURACY : 75.0\n",
    "\n",
    "# LOSS : 0.6753139793872833  ACCURACY : 74.47916666666666"
   ]
  }
 ],
 "metadata": {
  "kernelspec": {
   "display_name": "Python 3.7.13 ('base')",
   "language": "python",
   "name": "python3"
  },
  "language_info": {
   "codemirror_mode": {
    "name": "ipython",
    "version": 3
   },
   "file_extension": ".py",
   "mimetype": "text/x-python",
   "name": "python",
   "nbconvert_exporter": "python",
   "pygments_lexer": "ipython3",
   "version": "3.7.13"
  },
  "papermill": {
   "default_parameters": {},
   "duration": 9639.908324,
   "end_time": "2023-01-12T13:05:47.442846",
   "environment_variables": {},
   "exception": true,
   "input_path": "__notebook__.ipynb",
   "output_path": "__notebook__.ipynb",
   "parameters": {},
   "start_time": "2023-01-12T10:25:07.534522",
   "version": "2.3.4"
  },
  "vscode": {
   "interpreter": {
    "hash": "aac6a9f6e038666d9c19347a5caa7968d43d22ebc276d6ab3e43c5d06786ff02"
   }
  }
 },
 "nbformat": 4,
 "nbformat_minor": 5
}
